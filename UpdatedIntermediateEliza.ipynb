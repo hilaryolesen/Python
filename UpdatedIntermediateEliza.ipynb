{
 "cells": [
  {
   "cell_type": "code",
   "execution_count": 7,
   "metadata": {},
   "outputs": [],
   "source": [
    "def perspective(complaint):\n",
    "    \"\"\"Swtich from first person to second\"\"\"\n",
    "    complaint=complaint.split()\n",
    "    complaint = [word.replace('I', 'You') for word in complaint]\n",
    "    complaint = [word.replace('i', 'you') for word in complaint]\n",
    "    complaint = [word.replace('Me', 'You') for word in complaint]\n",
    "    complaint = [word.replace('me', 'you') for word in complaint]\n",
    "    complaint = [word.replace('am', 'are') for word in complaint]\n",
    "    complaint = [word.replace('Am', 'Are') for word in complaint]\n",
    "    complaint = [word.replace('my', 'your') for word in complaint]\n",
    "    complaint = [word.replace('My', 'Your') for word in complaint]\n",
    "    complaint = [word.replace('myself', 'yourself') for word in complaint]\n",
    "    complaint = [word.replace('Myself', 'Yourself') for word in complaint]\n",
    "    complaint=\" \".join(complaint)\n",
    "    return complaint"
   ]
  },
  {
   "cell_type": "code",
   "execution_count": 8,
   "metadata": {},
   "outputs": [
    {
     "name": "stdout",
     "output_type": "stream",
     "text": [
      "Good day. What is your problem? Enter your response here or press Q to quit:\n",
      "Enter your response here or press Q to quit:I am me\n",
      "You are you\n",
      "Enter your response here or press Q to quit:q\n"
     ]
    }
   ],
   "source": [
    "message=\"Enter your response here or press Q to quit:\"\n",
    "\n",
    "print(\"Good day. What is your problem? \" + message)\n",
    "\n",
    "while True:\n",
    "    response = input(message)\n",
    "    \n",
    "    if response.lower() == \"q\":\n",
    "        break\n",
    "    elif response.lower() == \"i am feeling great\":\n",
    "        print(perspective(response))\n",
    "        break\n",
    "    else:\n",
    "        print(perspective(response))"
   ]
  },
  {
   "cell_type": "code",
   "execution_count": 28,
   "metadata": {},
   "outputs": [
    {
     "name": "stdout",
     "output_type": "stream",
     "text": [
      "['I', 'like', 'to', 'read', 'iSpy.']\n",
      "I like to read iSpy.\n"
     ]
    }
   ],
   "source": [
    "tempmess= \"I like to read iSpy.\"\n",
    "tempmess=tempmess.split()\n",
    "print(tempmess)\n",
    "for word in tempmess:\n",
    "    if word == \"I\":\n",
    "        word = word.replace(\"I\",\"You\")\n",
    "    elif word == \"i\":\n",
    "        word = word.replace(\"i\",\"you\")\n",
    "tempmess =\" \".join(tempmess)\n",
    "print(tempmess)"
   ]
  },
  {
   "cell_type": "code",
   "execution_count": 24,
   "metadata": {},
   "outputs": [
    {
     "name": "stdout",
     "output_type": "stream",
     "text": [
      "['I', 'like', 'to', 'read', 'iSpy.']\n",
      "I like to read iSpy.\n"
     ]
    }
   ],
   "source": [
    "import re\n",
    "\n",
    "tempmess= \"I like to read iSpy.\"\n",
    "tempmess=tempmess.split()\n",
    "print(tempmess)\n",
    "for word in tempmess:\n",
    "    if word == \"I\":\n",
    "        word = re.sub('I','You',word) \n",
    "    elif word == \"i\":\n",
    "        word = word.replace(\"i\",\"you\")\n",
    "tempmess =\" \".join(tempmess)\n",
    "print(tempmess)"
   ]
  },
  {
   "cell_type": "code",
   "execution_count": null,
   "metadata": {},
   "outputs": [],
   "source": [
    "s = re.sub(r'\\b'+word+r'\\b', '<a href=\"%s\">%s</a>'%(link,word), s, 1)\n",
    "word = re.sub('I',  'You', word)           # Replace pattern abc -> def"
   ]
  },
  {
   "cell_type": "code",
   "execution_count": 25,
   "metadata": {},
   "outputs": [],
   "source": [
    "def trialrun(complaint):\n",
    "    import re\n",
    "    for complain in complaint:\n",
    "        complain = re.sub('I','You',complain)\n",
    "    return complaint"
   ]
  },
  {
   "cell_type": "code",
   "execution_count": 26,
   "metadata": {},
   "outputs": [
    {
     "name": "stdout",
     "output_type": "stream",
     "text": [
      "['I', 'like', 'to', 'read', 'iSpy.']\n",
      "['I', 'like', 'to', 'read', 'iSpy.']\n"
     ]
    }
   ],
   "source": [
    "tempmess = \"I like to read iSpy.\"\n",
    "tempmess=tempmess.split()\n",
    "print(tempmess)\n",
    "tempmess = trialrun(tempmess)\n",
    "print(tempmess)"
   ]
  },
  {
   "cell_type": "code",
   "execution_count": null,
   "metadata": {},
   "outputs": [],
   "source": []
  }
 ],
 "metadata": {
  "kernelspec": {
   "display_name": "Python 3",
   "language": "python",
   "name": "python3"
  },
  "language_info": {
   "codemirror_mode": {
    "name": "ipython",
    "version": 3
   },
   "file_extension": ".py",
   "mimetype": "text/x-python",
   "name": "python",
   "nbconvert_exporter": "python",
   "pygments_lexer": "ipython3",
   "version": "3.7.3"
  }
 },
 "nbformat": 4,
 "nbformat_minor": 2
}
